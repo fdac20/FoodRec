{
 "cells": [
  {
   "cell_type": "markdown",
   "metadata": {},
   "source": [
    "# Yelp Academic Dataset Restaurant Analysis\n",
    "\n",
    "## David Nguyen, Catherine Fei, Spencer Harper, Isaac Sikkema - November 24, 2020\n"
   ]
  },
  {
   "cell_type": "markdown",
   "metadata": {},
   "source": [
    "### Approach\n",
    "We plan to get the academic Yelp dataset that Yelp provides during an annual challenge they hold. This dataset holds many parts to it. The one we will be working on is the business.json file that holds the information of around 200,000 businesses. Some of the information that Yelp includes about these business are: city, address, review count, categories, etc. We will separate these restaurants based on their categories(Asian, Mexican, etc.) and then can give the user a list of restaurants they'd like to see. Not only do we give a list of a specific genre, we are able to perform some analysis on them to see what Yelp included in this dataset."
   ]
  },
  {
   "cell_type": "markdown",
   "metadata": {},
   "source": [
    "### Reading in the dataset and make a dataframe with only restaurants"
   ]
  },
  {
   "cell_type": "code",
   "execution_count": 32,
   "metadata": {},
   "outputs": [],
   "source": [
    "import pandas as pd\n",
    "import numpy as np\n",
    "\n",
    "#Reading in the .json file\n",
    "df_b = pd.read_json('yelp_academic_dataset_business.json', lines=True)\n",
    "\n",
    "#Drop useless categories\n",
    "drop_columns = ['hours','business_id', 'is_open', 'address', 'latitude', 'longitude'] #Dropping these categories cause we dont need it. Could be more.\n",
    "df_b = df_b.drop(drop_columns, axis=1)\n",
    "\n",
    "#This sets the output to show EVERYTHING. If you only want to see one row, set the first 'None' to 1. I just wanted to see the different column names.\n",
    "pd.set_option(\"display.max_rows\", 10 , \"display.max_columns\", None)\n",
    "\n",
    "#A dataframe containing ONLY places that have the restaurant category.\n",
    "restaurants = df_b[df_b['categories'].str.contains('Restaurants', case = False, na = False)]"
   ]
  },
  {
   "cell_type": "markdown",
   "metadata": {},
   "source": [
    "Since this dataset contains businesses that are not solely restaurants, we want to remove them from this dataframe. We make a new dataframe if the category section includes the word 'Restaurant' in it. Now we should have an entire dataframe with restaurants. However, we now need to organize this data.  "
   ]
  },
  {
   "cell_type": "markdown",
   "metadata": {},
   "source": [
    "### Let's look at some of the categories of these restaurants"
   ]
  },
  {
   "cell_type": "code",
   "execution_count": 33,
   "metadata": {},
   "outputs": [
    {
     "name": "stdout",
     "output_type": "stream",
     "text": [
      "Restaurants               63944\n",
      "Food                      16480\n",
      "Nightlife                  9400\n",
      "Bars                       9004\n",
      "Fast Food                  8106\n",
      "                          ...  \n",
      "Greek                      1145\n",
      "Juice Bars & Smoothies     1111\n",
      "French                     1082\n",
      "Wine Bars                  1077\n",
      "Vegan                      1037\n",
      "Name: categories, Length: 50, dtype: int64\n"
     ]
    }
   ],
   "source": [
    "df_explode = restaurants.assign(categories = restaurants.categories.str.split(', ')).explode('categories')\n",
    "df_explode2 = df_explode.categories.value_counts()\n",
    "print(df_explode2.head(50))"
   ]
  },
  {
   "cell_type": "markdown",
   "metadata": {},
   "source": [
    "Now that we have a list of what categories restaurants are in, we can filter them in their own dataframes to call later. We can manually do this based on what genre we are doing. For example, Asian restaurants would include categories like \"Chinese\", \"Vietnamese\", and \"Japanese\". We can manually make a dataframe with these with all different genres and would have a populated dataframe, though it is all done manually."
   ]
  },
  {
   "cell_type": "markdown",
   "metadata": {},
   "source": [
    "### Bleh - all the genres we decided to include"
   ]
  },
  {
   "cell_type": "code",
   "execution_count": 34,
   "metadata": {},
   "outputs": [],
   "source": [
    "asian = restaurants[restaurants['categories'].str.contains('Chinese|Japanese|Sushi Bars|Asian Fusion|Indian|Thai|Vietnamese|Korean|Bubble Tea|Ramen|Dim Sum|Taiwanese|Hot Pot|Pan Asian|Szechuan|Malaysian|Indonesian|Poke', case=False, na=False)]\n",
    "asian = asian.sort_values(by = 'review_count', ascending = False)\n",
    "\n",
    "american = restaurants[restaurants['categories'].str.contains('American|Burgers|Breakfast|Chicken Wings|Barbeque|Steakhouses|Diners|Hot Dogs|Fast Food|Sandwiches|Cheesesteaks',case=False,na=False)]\n",
    "american = american.sort_values(by = 'review_count', ascending = False)\n",
    "\n",
    "italian = restaurants[restaurants['categories'].str.contains('Pizza|Italian',case=False,na=False)]\n",
    "italian = italian.sort_values(by = 'review_count', ascending = False)\n",
    "\n",
    "bars = restaurants[restaurants['categories'].str.contains('Nightlife|Bars|Sports Bars|Pubs|Beer|Wine Bars|Juice Bars|Beer Bar|Hookah Bars|Cocktail Bars',case=False,na=False)]\n",
    "bars = bars.sort_values(by = 'review_count', ascending = False)\n",
    "\n",
    "fast_food = restaurants[restaurants['categories'].str.contains('Fast Food',case=False,na=False)]\n",
    "fast_food = fast_food.sort_values(by = 'review_count', ascending = False)\n",
    "\n",
    "diners = restaurants[restaurants['categories'].str.contains('Diners',case=False,na=False)]\n",
    "diners = diners.sort_values(by = 'review_count', ascending = False)\n",
    "\n",
    "dessert = restaurants[restaurants['categories'].str.contains('Bakeries|Desserts|Ice Cream|Donuts|Creperies|Patisserie|Waffles',case=False,na=False)]\n",
    "dessert = dessert.sort_values(by = 'review_count', ascending = False)\n",
    "\n",
    "sandwiches = restaurants[restaurants['categories'].str.contains('Sandwiches|Delis|Bagels|Hot Dogs',case=False,na=False)]\n",
    "sandwiches = sandwiches.sort_values(by = 'review_count', ascending = False)\n",
    "\n",
    "coffee = restaurants[restaurants['categories'].str.contains('Coffee|',case=False,na=False)]\n",
    "coffee = coffee.sort_values(by = 'review_count', ascending = False)\n",
    "\n",
    "japanese = restaurants[restaurants['categories'].str.contains('Japanese|Sushi|Ramen',case=False,na=False)]\n",
    "japanese = japanese.sort_values(by = 'review_count', ascending = False)\n",
    "\n",
    "korean = restaurants[restaurants['categories'].str.contains('Korean',case=False,na=False)]\n",
    "korean = korean.sort_values(by = 'review_count', ascending = False)\n",
    "\n",
    "indian = restaurants[restaurants['categories'].str.contains('Indian',case=False,na=False)]\n",
    "indian = indian.sort_values(by = 'review_count', ascending = False)\n",
    "\n",
    "chinese = restaurants[restaurants['categories'].str.contains('Chinese|Dim Sum|Cantonese|Szechuan',case=False,na=False)]\n",
    "chinese = chinese.sort_values(by = 'review_count', ascending = False)\n",
    "\n",
    "mediterranean = restaurants[restaurants['categories'].str.contains('Mediterranean',case=False,na=False)]\n",
    "mediterranean = mediterranean.sort_values(by = 'review_count', ascending = False)\n",
    "\n",
    "vegetable_people = restaurants[restaurants['categories'].str.contains('Salad|Vegetarian',case=False,na=False)]\n",
    "vegetable_people = vegetable_people.sort_values(by = 'review_count', ascending = False)\n",
    "\n",
    "thai = restaurants[restaurants['categories'].str.contains('Thai',case=False,na=False)]\n",
    "thai = thai.sort_values(by = 'review_count', ascending = False)\n",
    "\n",
    "vietnamese = restaurants[restaurants['categories'].str.contains('Vietnamese',case=False,na=False)]\n",
    "vietnamese = vietnamese.sort_values(by = 'review_count', ascending = False)\n",
    "\n",
    "halal = restaurants[restaurants['categories'].str.contains('Halal',case=False,na=False)]\n",
    "halal = halal.sort_values(by = 'review_count', ascending = False)\n",
    "\n",
    "mexican = restaurants[restaurants['categories'].str.contains('Mexican|Tacos|Tex-Mex|Latin American',case=False,na=False)]\n",
    "mexican = mexican.sort_values(by = 'review_count', ascending = False)\n",
    "mexican = mexican[~mexican.categories.str.contains(\"Fast Food\") ]"
   ]
  },
  {
   "cell_type": "markdown",
   "metadata": {},
   "source": [
    "#### Now we can print whatever category we want to the user and they'll get all the restaurants sorted by review count.\n"
   ]
  },
  {
   "cell_type": "code",
   "execution_count": 35,
   "metadata": {},
   "outputs": [
    {
     "name": "stdout",
     "output_type": "stream",
     "text": [
      "                                name       city state postal_code  stars  \\\n",
      "202271                 Lotus of Siam  Las Vegas    NV       89104    4.0   \n",
      "19269       Gangnam Asian BBQ Dining  Las Vegas    NV       89169    4.5   \n",
      "116104                  Pho Kim Long  Las Vegas    NV       89102    3.5   \n",
      "59575                   Bachi Burger  Las Vegas    NV       89123    4.0   \n",
      "204860  Rio All-Suite Hotel & Casino  Las Vegas    NV       89103    2.5   \n",
      "\n",
      "        review_count                                         attributes  \\\n",
      "202271          3986  {'RestaurantsReservations': 'True', 'BYOBCorka...   \n",
      "19269           3512  {'BusinessAcceptsCreditCards': 'True', 'GoodFo...   \n",
      "116104          3398  {'RestaurantsTakeOut': 'True', 'GoodForKids': ...   \n",
      "59575           3356  {'Caters': 'False', 'OutdoorSeating': 'True', ...   \n",
      "204860          2855  {'Ambience': '{'touristy': False, 'hipster': F...   \n",
      "\n",
      "                                               categories  \n",
      "202271  Automotive, Wine Bars, Buffets, Car Dealers, B...  \n",
      "19269   Asian Fusion, Barbeque, Tapas/Small Plates, Ko...  \n",
      "116104           Korean, Vietnamese, Chinese, Restaurants  \n",
      "59575   Asian Fusion, Bars, Burgers, Beer, Wine & Spir...  \n",
      "204860  Arts & Entertainment, Shopping, Hotels & Trave...  \n"
     ]
    }
   ],
   "source": [
    "print(asian.head())"
   ]
  },
  {
   "cell_type": "markdown",
   "metadata": {},
   "source": [
    "In the example above, the user specifies for all asian food. We are given a dataframe with all the asian restaurants in the Yelp dataset. We can see that 'Lotus of Siam' has the highest review counts of all the asian restaurants."
   ]
  },
  {
   "cell_type": "markdown",
   "metadata": {},
   "source": [
    "## Analysis"
   ]
  },
  {
   "cell_type": "code",
   "execution_count": 42,
   "metadata": {},
   "outputs": [
    {
     "ename": "SyntaxError",
     "evalue": "invalid syntax (<ipython-input-42-b9738fc774b7>, line 2)",
     "output_type": "error",
     "traceback": [
      "\u001b[0;36m  File \u001b[0;32m\"<ipython-input-42-b9738fc774b7>\"\u001b[0;36m, line \u001b[0;32m2\u001b[0m\n\u001b[0;31m    df_explode2 = df_explode.categories.value_counts()\u001b[0m\n\u001b[0m    ^\u001b[0m\n\u001b[0;31mSyntaxError\u001b[0m\u001b[0;31m:\u001b[0m invalid syntax\n"
     ]
    }
   ],
   "source": [
    "df_explode = restaurants.assign(state = restaurants.categories.explode('state')\n",
    "df_explode2 = df_explode.categories.value_counts()\n",
    "print(df_explode2.head(50))"
   ]
  },
  {
   "cell_type": "code",
   "execution_count": null,
   "metadata": {},
   "outputs": [],
   "source": []
  }
 ],
 "metadata": {
  "kernelspec": {
   "display_name": "Python 3",
   "language": "python",
   "name": "python3"
  },
  "language_info": {
   "codemirror_mode": {
    "name": "ipython",
    "version": 3
   },
   "file_extension": ".py",
   "mimetype": "text/x-python",
   "name": "python",
   "nbconvert_exporter": "python",
   "pygments_lexer": "ipython3",
   "version": "3.8.2"
  }
 },
 "nbformat": 4,
 "nbformat_minor": 4
}
